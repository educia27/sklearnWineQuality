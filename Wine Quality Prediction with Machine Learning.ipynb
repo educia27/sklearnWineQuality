{
 "cells": [
  {
   "cell_type": "code",
   "execution_count": 4,
   "id": "49f47adb",
   "metadata": {},
   "outputs": [],
   "source": [
    "import numpy as np\n",
    "import pandas as pd\n",
    "from sklearn import preprocessing # setting up environmnents"
   ]
  },
  {
   "cell_type": "code",
   "execution_count": 5,
   "id": "38d593b1",
   "metadata": {},
   "outputs": [],
   "source": [
    "from sklearn.ensemble import RandomForestRegressor"
   ]
  },
  {
   "cell_type": "code",
   "execution_count": 6,
   "id": "86349f0e",
   "metadata": {},
   "outputs": [],
   "source": [
    "from sklearn.pipeline import make_pipeline #importing essential sklearn functionality\n",
    "from sklearn.model_selection import GridSearchCV"
   ]
  },
  {
   "cell_type": "code",
   "execution_count": 7,
   "id": "81c6227a",
   "metadata": {},
   "outputs": [],
   "source": [
    "from sklearn.metrics import mean_squared_error, r2_score"
   ]
  },
  {
   "cell_type": "code",
   "execution_count": 8,
   "id": "ec31d320",
   "metadata": {},
   "outputs": [],
   "source": [
    "import joblib"
   ]
  },
  {
   "cell_type": "code",
   "execution_count": 9,
   "id": "f95b5f3c",
   "metadata": {},
   "outputs": [],
   "source": [
    "dataset_url = 'https://archive.ics.uci.edu/ml/machine-learning-databases/wine-quality/winequality-red.csv'\n",
    "data = pd.read_csv(dataset_url)"
   ]
  },
  {
   "cell_type": "code",
   "execution_count": 10,
   "id": "5a8610d0",
   "metadata": {},
   "outputs": [
    {
     "name": "stdout",
     "output_type": "stream",
     "text": [
      "  fixed acidity;\"volatile acidity\";\"citric acid\";\"residual sugar\";\"chlorides\";\"free sulfur dioxide\";\"total sulfur dioxide\";\"density\";\"pH\";\"sulphates\";\"alcohol\";\"quality\"\n",
      "0   7.4;0.7;0;1.9;0.076;11;34;0.9978;3.51;0.56;9.4;5                                                                                                                     \n",
      "1   7.8;0.88;0;2.6;0.098;25;67;0.9968;3.2;0.68;9.8;5                                                                                                                     \n",
      "2  7.8;0.76;0.04;2.3;0.092;15;54;0.997;3.26;0.65;...                                                                                                                     \n",
      "3  11.2;0.28;0.56;1.9;0.075;17;60;0.998;3.16;0.58...                                                                                                                     \n",
      "4   7.4;0.7;0;1.9;0.076;11;34;0.9978;3.51;0.56;9.4;5                                                                                                                     \n"
     ]
    }
   ],
   "source": [
    "print (data.head())"
   ]
  },
  {
   "cell_type": "code",
   "execution_count": 11,
   "id": "1d0f8682",
   "metadata": {},
   "outputs": [
    {
     "name": "stdout",
     "output_type": "stream",
     "text": [
      "   fixed acidity  volatile acidity  citric acid  residual sugar  chlorides  \\\n",
      "0            7.4              0.70         0.00             1.9      0.076   \n",
      "1            7.8              0.88         0.00             2.6      0.098   \n",
      "2            7.8              0.76         0.04             2.3      0.092   \n",
      "3           11.2              0.28         0.56             1.9      0.075   \n",
      "4            7.4              0.70         0.00             1.9      0.076   \n",
      "\n",
      "   free sulfur dioxide  total sulfur dioxide  density    pH  sulphates  \\\n",
      "0                 11.0                  34.0   0.9978  3.51       0.56   \n",
      "1                 25.0                  67.0   0.9968  3.20       0.68   \n",
      "2                 15.0                  54.0   0.9970  3.26       0.65   \n",
      "3                 17.0                  60.0   0.9980  3.16       0.58   \n",
      "4                 11.0                  34.0   0.9978  3.51       0.56   \n",
      "\n",
      "   alcohol  quality  \n",
      "0      9.4        5  \n",
      "1      9.8        5  \n",
      "2      9.8        5  \n",
      "3      9.8        6  \n",
      "4      9.4        5  \n"
     ]
    }
   ],
   "source": [
    "data = pd.read_csv(dataset_url, sep =';')\n",
    "print (data.head()) # using sep parameter ,adds seperator between strings to be printed"
   ]
  },
  {
   "cell_type": "code",
   "execution_count": 12,
   "id": "a260341a",
   "metadata": {},
   "outputs": [
    {
     "name": "stdout",
     "output_type": "stream",
     "text": [
      "(1599, 12)\n"
     ]
    }
   ],
   "source": [
    "print (data.shape) #returns total number of samples and 12 features"
   ]
  },
  {
   "cell_type": "code",
   "execution_count": 13,
   "id": "79b2c548",
   "metadata": {},
   "outputs": [
    {
     "name": "stdout",
     "output_type": "stream",
     "text": [
      "       fixed acidity  volatile acidity  citric acid  residual sugar  \\\n",
      "count    1599.000000       1599.000000  1599.000000     1599.000000   \n",
      "mean        8.319637          0.527821     0.270976        2.538806   \n",
      "std         1.741096          0.179060     0.194801        1.409928   \n",
      "min         4.600000          0.120000     0.000000        0.900000   \n",
      "25%         7.100000          0.390000     0.090000        1.900000   \n",
      "50%         7.900000          0.520000     0.260000        2.200000   \n",
      "75%         9.200000          0.640000     0.420000        2.600000   \n",
      "max        15.900000          1.580000     1.000000       15.500000   \n",
      "\n",
      "         chlorides  free sulfur dioxide  total sulfur dioxide      density  \\\n",
      "count  1599.000000          1599.000000           1599.000000  1599.000000   \n",
      "mean      0.087467            15.874922             46.467792     0.996747   \n",
      "std       0.047065            10.460157             32.895324     0.001887   \n",
      "min       0.012000             1.000000              6.000000     0.990070   \n",
      "25%       0.070000             7.000000             22.000000     0.995600   \n",
      "50%       0.079000            14.000000             38.000000     0.996750   \n",
      "75%       0.090000            21.000000             62.000000     0.997835   \n",
      "max       0.611000            72.000000            289.000000     1.003690   \n",
      "\n",
      "                pH    sulphates      alcohol      quality  \n",
      "count  1599.000000  1599.000000  1599.000000  1599.000000  \n",
      "mean      3.311113     0.658149    10.422983     5.636023  \n",
      "std       0.154386     0.169507     1.065668     0.807569  \n",
      "min       2.740000     0.330000     8.400000     3.000000  \n",
      "25%       3.210000     0.550000     9.500000     5.000000  \n",
      "50%       3.310000     0.620000    10.200000     6.000000  \n",
      "75%       3.400000     0.730000    11.100000     6.000000  \n",
      "max       4.010000     2.000000    14.900000     8.000000  \n"
     ]
    }
   ],
   "source": [
    "print (data.describe()) # describe method used to view statistical, \n",
    "                        #in this case numberic, information"
   ]
  },
  {
   "cell_type": "code",
   "execution_count": 14,
   "id": "b3221143",
   "metadata": {},
   "outputs": [],
   "source": [
    "y = data.quality\n",
    "X = data.drop('quality', axis =1)"
   ]
  },
  {
   "cell_type": "code",
   "execution_count": 15,
   "id": "5ac19960",
   "metadata": {},
   "outputs": [],
   "source": [
    "from sklearn.model_selection import train_test_split"
   ]
  },
  {
   "cell_type": "code",
   "execution_count": 16,
   "id": "bd31c65d",
   "metadata": {},
   "outputs": [],
   "source": [
    "X_train, X_test, y_train, y_test = train_test_split(X, y, \n",
    "                                                    test_size=0.2, \n",
    "                                                    random_state=123, \n",
    "                                                    stratify=y)"
   ]
  },
  {
   "cell_type": "code",
   "execution_count": 17,
   "id": "90d6a907",
   "metadata": {},
   "outputs": [],
   "source": [
    "scaler = preprocessing.StandardScaler().fit(X_train) #scaler object has the saved means and standard\n",
    "                                                    #deviations for each feauture in the training set"
   ]
  },
  {
   "cell_type": "code",
   "execution_count": 18,
   "id": "5c29dbf9",
   "metadata": {},
   "outputs": [
    {
     "name": "stdout",
     "output_type": "stream",
     "text": [
      "[ 1.16664562e-16 -3.05550043e-17 -8.47206937e-17 -2.22218213e-17\n",
      "  2.77772766e-18 -6.38877362e-17 -4.16659149e-18 -1.20753377e-13\n",
      " -8.70817622e-16 -4.08325966e-16 -1.16664562e-15]\n"
     ]
    }
   ],
   "source": [
    "X_train_scaled = scaler.transform(X_train)\n",
    " \n",
    "print (X_train_scaled.mean(axis=0))\n"
   ]
  },
  {
   "cell_type": "code",
   "execution_count": 19,
   "id": "389e6b8c",
   "metadata": {},
   "outputs": [
    {
     "name": "stdout",
     "output_type": "stream",
     "text": [
      "[1. 1. 1. 1. 1. 1. 1. 1. 1. 1. 1.]\n"
     ]
    }
   ],
   "source": [
    "print (X_train_scaled.std(axis=0)) "
   ]
  },
  {
   "cell_type": "code",
   "execution_count": 21,
   "id": "da839283",
   "metadata": {},
   "outputs": [
    {
     "name": "stdout",
     "output_type": "stream",
     "text": [
      "[ 0.02776704  0.02592492 -0.03078587 -0.03137977 -0.00471876 -0.04413827\n",
      " -0.02414174 -0.00293273 -0.00467444 -0.10894663  0.01043391]\n",
      "[1.02160495 1.00135689 0.97456598 0.91099054 0.86716698 0.94193125\n",
      " 1.03673213 1.03145119 0.95734849 0.83829505 1.0286218 ]\n"
     ]
    }
   ],
   "source": [
    "X_test_scaled = scaler.transform(X_test)\n",
    " \n",
    "print (X_test_scaled.mean(axis=0))  # applying transformer to test data\n",
    "\n",
    "print (X_test_scaled.std(axis=0))"
   ]
  },
  {
   "cell_type": "code",
   "execution_count": 22,
   "id": "29e3328f",
   "metadata": {},
   "outputs": [],
   "source": [
    "pipeline = make_pipeline(preprocessing.StandardScaler(), \n",
    "                         RandomForestRegressor(n_estimators=100))"
   ]
  },
  {
   "cell_type": "code",
   "execution_count": 23,
   "id": "46647a85",
   "metadata": {},
   "outputs": [
    {
     "name": "stdout",
     "output_type": "stream",
     "text": [
      "{'memory': None, 'steps': [('standardscaler', StandardScaler()), ('randomforestregressor', RandomForestRegressor())], 'verbose': False, 'standardscaler': StandardScaler(), 'randomforestregressor': RandomForestRegressor(), 'standardscaler__copy': True, 'standardscaler__with_mean': True, 'standardscaler__with_std': True, 'randomforestregressor__bootstrap': True, 'randomforestregressor__ccp_alpha': 0.0, 'randomforestregressor__criterion': 'mse', 'randomforestregressor__max_depth': None, 'randomforestregressor__max_features': 'auto', 'randomforestregressor__max_leaf_nodes': None, 'randomforestregressor__max_samples': None, 'randomforestregressor__min_impurity_decrease': 0.0, 'randomforestregressor__min_impurity_split': None, 'randomforestregressor__min_samples_leaf': 1, 'randomforestregressor__min_samples_split': 2, 'randomforestregressor__min_weight_fraction_leaf': 0.0, 'randomforestregressor__n_estimators': 100, 'randomforestregressor__n_jobs': None, 'randomforestregressor__oob_score': False, 'randomforestregressor__random_state': None, 'randomforestregressor__verbose': 0, 'randomforestregressor__warm_start': False}\n"
     ]
    }
   ],
   "source": [
    "print (pipeline.get_params())"
   ]
  },
  {
   "cell_type": "code",
   "execution_count": 26,
   "id": "6ba0b460",
   "metadata": {},
   "outputs": [],
   "source": [
    "hyperparameters = { 'randomforestregressor__max_features' : ['auto', 'sqrt', 'log2'],\n",
    "                  'randomforestregressor__max_depth': [None, 5, 3, 1]}"
   ]
  },
  {
   "cell_type": "code",
   "execution_count": 27,
   "id": "44b69915",
   "metadata": {},
   "outputs": [
    {
     "data": {
      "text/plain": [
       "GridSearchCV(cv=10,\n",
       "             estimator=Pipeline(steps=[('standardscaler', StandardScaler()),\n",
       "                                       ('randomforestregressor',\n",
       "                                        RandomForestRegressor())]),\n",
       "             param_grid={'randomforestregressor__max_depth': [None, 5, 3, 1],\n",
       "                         'randomforestregressor__max_features': ['auto', 'sqrt',\n",
       "                                                                 'log2']})"
      ]
     },
     "execution_count": 27,
     "metadata": {},
     "output_type": "execute_result"
    }
   ],
   "source": [
    "clf = GridSearchCV(pipeline, hyperparameters, cv=10)\n",
    " \n",
    "# Fit and tune model\n",
    "clf.fit(X_train, y_train)  # Splitting data into 10 = parts"
   ]
  },
  {
   "cell_type": "code",
   "execution_count": 29,
   "id": "a0c8fd02",
   "metadata": {},
   "outputs": [
    {
     "name": "stdout",
     "output_type": "stream",
     "text": [
      "{'randomforestregressor__max_depth': None, 'randomforestregressor__max_features': 'auto'}\n"
     ]
    }
   ],
   "source": [
    "print (clf.best_params_)"
   ]
  },
  {
   "cell_type": "code",
   "execution_count": 30,
   "id": "1a19fd98",
   "metadata": {},
   "outputs": [
    {
     "name": "stdout",
     "output_type": "stream",
     "text": [
      "True\n"
     ]
    }
   ],
   "source": [
    "print (clf.refit) # confirming functionality \n",
    "                # refitting the model w/ best set of hyperparameters\n",
    "                #using the entire training set"
   ]
  },
  {
   "cell_type": "markdown",
   "id": "c468b373",
   "metadata": {},
   "source": [
    "# Evaluate model pipeline on test data\n"
   ]
  },
  {
   "cell_type": "code",
   "execution_count": 31,
   "id": "06058c56",
   "metadata": {},
   "outputs": [],
   "source": [
    "y_pred = clf.predict(X_test)"
   ]
  },
  {
   "cell_type": "code",
   "execution_count": 32,
   "id": "2325e469",
   "metadata": {},
   "outputs": [
    {
     "name": "stdout",
     "output_type": "stream",
     "text": [
      "0.4609460621102974\n",
      "0.3478371875\n"
     ]
    }
   ],
   "source": [
    "print (r2_score(y_test, y_pred))\n",
    "\n",
    "print (mean_squared_error(y_test, y_pred))"
   ]
  },
  {
   "cell_type": "code",
   "execution_count": 33,
   "id": "4424cf44",
   "metadata": {},
   "outputs": [
    {
     "data": {
      "text/plain": [
       "['rf_regressor.pkl']"
      ]
     },
     "execution_count": 33,
     "metadata": {},
     "output_type": "execute_result"
    }
   ],
   "source": [
    "joblib.dump(clf, 'rf_regressor.pkl')"
   ]
  },
  {
   "cell_type": "code",
   "execution_count": 34,
   "id": "1c9b7563",
   "metadata": {},
   "outputs": [
    {
     "data": {
      "text/plain": [
       "array([6.49, 5.89, 5.  , 5.54, 6.44, 5.86, 4.86, 4.58, 5.  , 5.99, 5.25,\n",
       "       5.79, 5.85, 5.05, 5.81, 5.58, 6.71, 5.79, 5.76, 6.97, 5.49, 5.69,\n",
       "       5.  , 6.01, 5.93, 5.05, 5.62, 5.11, 5.98, 5.98, 5.85, 6.58, 5.99,\n",
       "       5.02, 4.86, 5.98, 5.07, 5.79, 5.12, 5.84, 4.82, 5.89, 6.74, 5.16,\n",
       "       6.22, 5.46, 5.56, 5.52, 5.18, 6.51, 5.91, 5.25, 5.9 , 5.24, 5.71,\n",
       "       5.87, 5.32, 5.4 , 5.01, 5.21, 5.28, 5.18, 5.  , 5.8 , 5.92, 5.38,\n",
       "       6.52, 5.04, 5.17, 6.65, 5.76, 5.41, 5.04, 5.01, 5.28, 5.99, 5.25,\n",
       "       5.17, 5.2 , 5.22, 6.66, 5.52, 6.38, 6.5 , 5.1 , 5.8 , 6.5 , 6.19,\n",
       "       5.54, 5.71, 5.86, 5.36, 6.5 , 5.69, 5.63, 5.77, 6.73, 6.8 , 5.52,\n",
       "       6.84, 5.09, 5.37, 5.14, 6.51, 5.02, 4.64, 5.73, 5.01, 5.72, 5.92,\n",
       "       5.67, 5.54, 6.18, 5.44, 5.09, 5.28, 5.87, 5.  , 4.83, 5.95, 5.83,\n",
       "       5.12, 5.85, 5.87, 5.22, 5.35, 5.24, 5.84, 5.56, 5.42, 5.71, 6.47,\n",
       "       5.12, 5.15, 5.03, 6.5 , 5.01, 5.18, 6.75, 5.51, 5.14, 5.06, 5.89,\n",
       "       6.06, 5.38, 5.4 , 5.11, 6.58, 5.44, 4.98, 5.66, 5.18, 4.82, 5.  ,\n",
       "       5.16, 5.91, 5.37, 5.78, 5.74, 5.28, 5.61, 5.29, 5.25, 5.86, 5.02,\n",
       "       5.98, 5.21, 5.31, 5.5 , 5.18, 5.73, 4.97, 5.58, 5.06, 5.58, 5.49,\n",
       "       4.99, 5.23, 5.64, 5.04, 6.15, 5.56, 5.  , 4.99, 5.25, 6.14, 5.13,\n",
       "       5.58, 5.26, 4.85, 5.5 , 6.63, 5.86, 5.9 , 5.38, 5.15, 5.45, 5.07,\n",
       "       6.09, 4.58, 6.25, 5.1 , 5.29, 5.17, 7.05, 6.06, 5.28, 5.21, 5.37,\n",
       "       5.87, 5.99, 5.92, 5.96, 6.38, 5.84, 5.93, 5.28, 5.24, 5.64, 5.21,\n",
       "       5.23, 5.9 , 6.04, 5.66, 5.98, 5.86, 5.53, 6.23, 5.41, 5.81, 5.37,\n",
       "       5.45, 6.33, 5.87, 5.1 , 4.34, 6.6 , 6.51, 6.38, 5.37, 5.35, 5.52,\n",
       "       5.38, 6.27, 5.92, 5.18, 5.05, 5.49, 5.18, 6.5 , 5.13, 5.05, 5.3 ,\n",
       "       5.05, 5.84, 6.57, 5.7 , 5.4 , 5.41, 6.33, 5.36, 6.13, 5.22, 5.09,\n",
       "       5.67, 5.89, 5.87, 5.63, 5.33, 5.12, 5.78, 5.61, 6.44, 6.25, 5.72,\n",
       "       4.97, 5.94, 6.83, 5.88, 5.27, 5.76, 5.28, 5.41, 5.99, 6.93, 5.36,\n",
       "       6.79, 5.88, 5.39, 5.3 , 5.96, 5.09, 5.18, 6.15, 5.8 , 6.03, 6.1 ,\n",
       "       5.88, 5.4 , 5.49, 5.51, 6.19, 5.44, 6.98, 6.89, 5.95, 6.17, 5.04,\n",
       "       5.27, 5.98, 5.28, 5.47, 5.9 , 6.71, 6.63, 5.31, 5.55, 5.67, 6.04,\n",
       "       5.58])"
      ]
     },
     "execution_count": 34,
     "metadata": {},
     "output_type": "execute_result"
    }
   ],
   "source": [
    "clf2 = joblib.load('rf_regressor.pkl')\n",
    " \n",
    "# Predict data set using loaded model\n",
    "clf2.predict(X_test)"
   ]
  },
  {
   "cell_type": "code",
   "execution_count": null,
   "id": "ee54aa65",
   "metadata": {},
   "outputs": [],
   "source": []
  }
 ],
 "metadata": {
  "kernelspec": {
   "display_name": "Python 3",
   "language": "python",
   "name": "python3"
  },
  "language_info": {
   "codemirror_mode": {
    "name": "ipython",
    "version": 3
   },
   "file_extension": ".py",
   "mimetype": "text/x-python",
   "name": "python",
   "nbconvert_exporter": "python",
   "pygments_lexer": "ipython3",
   "version": "3.8.8"
  }
 },
 "nbformat": 4,
 "nbformat_minor": 5
}
